{
 "cells": [
  {
   "cell_type": "markdown",
   "metadata": {},
   "source": [
    "**PyPoll Homework - Week 3**\n",
    "This shows my work on the assigned task of summarizing as CSV file by the number of votes accumulated over 3 million records.\n",
    "\n",
    "In addition to that, I also have included logic to show how one could summarize by county, candidate using loops.  Dictionaries were used as the list type as they provided the most elegant way of summarizing by name, whether by Candidate or by County, Canditate.\n",
    "\n",
    "I also added an implemention of using Pandas.  Essentially, two lines of code completely replaced all of the over 100 lines of loop code I wrote.  And super fast in comparison!"
   ]
  },
  {
   "cell_type": "code",
   "execution_count": 2,
   "metadata": {},
   "outputs": [],
   "source": [
    "import pandas as pd\n",
    "from pandas import pivot_table, DataFrame, crosstab\n",
    "import numpy as np\n",
    "import matplotlib.pyplot as plt\n",
    "import os\n",
    "import csv\n",
    "import sys\n",
    "import calendar\n",
    "import sys\n",
    "import collections"
   ]
  },
  {
   "cell_type": "code",
   "execution_count": 3,
   "metadata": {},
   "outputs": [],
   "source": [
    "def MyMax(val, comp):\n",
    "    if val >= comp:\n",
    "        return val\n",
    "    elif val < comp:\n",
    "        return comp\n",
    "\n",
    "\n",
    "def MyMin(val, comp):\n",
    "    if val <= comp:\n",
    "        return val\n",
    "    elif val > comp:\n",
    "        return comp\n",
    "\n",
    "\n",
    "def SortCsvFile(inputname, sortcolumn, outputfilename):\n",
    "    with open(inputname, 'r', newline='') as f_input:\n",
    "        csv_input = csv.DictReader(f_input)\n",
    "        data = sorted(csv_input, key=lambda row: (row[sortcolumn], row['X']))\n",
    "\n",
    "    with open(outputfilename, 'w', newline='') as f_output:\n",
    "        csv_output = csv.DictWriter(f_output, fieldnames=csv_input.fieldnames)\n",
    "        csv_output.writeheader()\n",
    "        csv_output.writerows(data)\n",
    "# this routine expects to have\n",
    "\n",
    "# zeros out copy of the Canidates List\n",
    "def initCandiatesforCount(Canidates):\n",
    "    ret = Canidates.copy\n",
    "    ret = {x: 0 for x in Canidates}\n",
    "    return ret\n",
    "\n",
    " "
   ]
  },
  {
   "cell_type": "code",
   "execution_count": 4,
   "metadata": {},
   "outputs": [
    {
     "name": "stdout",
     "output_type": "stream",
     "text": [
      "Election count:3521001\n"
     ]
    },
    {
     "data": {
      "text/plain": [
       "<function print>"
      ]
     },
     "execution_count": 4,
     "metadata": {},
     "output_type": "execute_result"
    }
   ],
   "source": [
    "# File moved to local directory instead of using os.path.join(...),which is problematic\n",
    "flocation = 'election_data.csv'\n",
    "# Using Panda\n",
    "# df = pd.read_csv(flocation)\n",
    "# dfviewer(df)\n",
    "# SortCsvFile(flocation,'County','sortedbycount.csv')\n",
    "\n",
    "Canidatecount = {}  # Dictionary of Individual\n",
    "# Opens file for 'r'eading - safest technique for open and closing files as will always close even if there is an exception\n",
    "# thereby not hanging the os and losing the file\n",
    "with open(flocation, 'r') as infile:\n",
    "    csvrows = csv.reader(infile, delimiter=',')\n",
    "\n",
    "    cnt = 0\n",
    "\n",
    "    for row in csvrows:\n",
    "        if cnt > 0:\n",
    "            if row[2] in Canidatecount:  # syntax to see if the item is in the dictionary\n",
    "                Canidatecount[row[2]] += 1\n",
    "            else:\n",
    "                Canidatecount[row[2]] = 1\n",
    "            # end IF\n",
    "        # end if\n",
    "        cnt += 1  # method 2 of summarizing count\n",
    "    # end of for loop\n",
    "# End With\n",
    "cnt -= 1  # over counted by 1, so backup\n",
    "print(\"Election count:\" + str(cnt))\n",
    "print\n",
    "print"
   ]
  },
  {
   "cell_type": "code",
   "execution_count": 5,
   "metadata": {},
   "outputs": [
    {
     "name": "stdout",
     "output_type": "stream",
     "text": [
      "Khan:       2218231 -->>> Percentage of vote: 63.00%\n",
      "Correy:        704200 -->>> Percentage of vote: 20.00%\n",
      "Li:        492940 -->>> Percentage of vote: 14.00%\n",
      "O'Tooley:        105630 -->>> Percentage of vote: 3.00%\n"
     ]
    }
   ],
   "source": [
    "# This is a good way of transposing the output of the Dictionary into a\n",
    "# more readable format. Fiddling around with the format strings would\n",
    "# create a better looking table-like format, if desired.  I didn't desire it.\n",
    "\n",
    "for key, value in Canidatecount.items():\n",
    "    print(key + \": {:13d}\".format(value) +\n",
    "          \" -->>> Percentage of vote: {:.2f}\".format(value/cnt*100) + \"%\")\n",
    "    "
   ]
  },
  {
   "cell_type": "code",
   "execution_count": 6,
   "metadata": {},
   "outputs": [],
   "source": [
    "#\n",
    "#\n",
    "# OK, now By County,Canidate Since we already have all of the\n",
    "# canidates who have received votes in the state we will assign that empty list to\n",
    "# each county as they are identified.  So the dictionary for the county is {Countyname,{Canidate Dictionary}}\n",
    "cnt = 0\n",
    "Countycount = {}  # initialize the county dictionary\n",
    "with open(flocation, 'r') as infile:\n",
    "    csvrows = csv.reader(infile, delimiter=',')\n",
    "    cnt = 0 \n",
    "    for row in csvrows:\n",
    "        if cnt > 0:\n",
    "            if row[1] in Countycount:  # syntax to see if the item is in the dictionary\n",
    "               # temp={}\n",
    "                temp = Countycount[row[1]]\n",
    "                temp[row[2]] += 1\n",
    "                Countycount[row[1]] = temp  # this should increment the proper\n",
    "            else:  # new county, not in list needs to be added with a zeroed out Canidate list\n",
    "                virgincanidatelist = initCandiatesforCount(\n",
    "                    Canidatecount)  # setup clean slate                \n",
    "                # init first count for whoever is the first candiate on the first county\n",
    "                virgincanidatelist[row[2]]+=1\n",
    "                Countycount[row[1]] = virgincanidatelist \n",
    "            # end IF\n",
    "        # end if\n",
    "        cnt += 1  # method 2 of summarizing count\n",
    "    # end of for loop\n",
    "# End With\n",
    "cnt -= 1  # over counted by 1, so backup"
   ]
  },
  {
   "cell_type": "code",
   "execution_count": 7,
   "metadata": {},
   "outputs": [
    {
     "name": "stdout",
     "output_type": "stream",
     "text": [
      "County breakdown\n",
      "{'Marsh': {'Khan': 1427142, 'Correy': 453015, 'Li': 317651, \"O'Tooley\": 68149}, 'Queen': {'Khan': 439494, 'Correy': 139554, 'Li': 97305, \"O'Tooley\": 20850}, 'Bamoo': {'Khan': 219834, 'Correy': 69752, 'Li': 48639, \"O'Tooley\": 10433}, 'Trandee': {'Khan': 65939, 'Correy': 20824, 'Li': 14741, \"O'Tooley\": 3113}, 'Raffah': {'Khan': 65822, 'Correy': 21055, 'Li': 14604, \"O'Tooley\": 3085}}\n",
      "Marsh County---------------------------\n",
      "Khan:       1427142\n",
      "Correy:        453015\n",
      "Li:        317651\n",
      "O'Tooley:         68149\n",
      "Queen County---------------------------\n",
      "Khan:        439494\n",
      "Correy:        139554\n",
      "Li:         97305\n",
      "O'Tooley:         20850\n",
      "Bamoo County---------------------------\n",
      "Khan:        219834\n",
      "Correy:         69752\n",
      "Li:         48639\n",
      "O'Tooley:         10433\n",
      "Trandee County---------------------------\n",
      "Khan:         65939\n",
      "Correy:         20824\n",
      "Li:         14741\n",
      "O'Tooley:          3113\n",
      "Raffah County---------------------------\n",
      "Khan:         65822\n",
      "Correy:         21055\n",
      "Li:         14604\n",
      "O'Tooley:          3085\n"
     ]
    }
   ],
   "source": [
    "print(\"County breakdown\")\n",
    "print\n",
    "# !!!!!The output is not pretty but is squares with the previous summary, \n",
    "# so now we know how many people voted for each canidate in each county!!\n",
    "# AND THE RUSSIANS WERE NOT INVOLVED\n",
    "print(Countycount)\n",
    "for key, value in Countycount.items():\n",
    "    print(key + \" County---------------------------\")\n",
    "    for key2, value2 in value.items():\n",
    "        print(key2 + \": {:13d}\".format(value2))\n",
    "    #end for    \n",
    "#end for"
   ]
  },
  {
   "cell_type": "code",
   "execution_count": 8,
   "metadata": {},
   "outputs": [
    {
     "name": "stdout",
     "output_type": "stream",
     "text": [
      "          Voter ID                                          \n",
      "County       Bamoo    Marsh   Queen  Raffah Trandee   Totals\n",
      "Candidate                                                   \n",
      "Correy       69752   453015  139554   21055   20824   704200\n",
      "Khan        219834  1427142  439494   65822   65939  2218231\n",
      "Li           48639   317651   97305   14604   14741   492940\n",
      "O'Tooley     10433    68149   20850    3085    3113   105630\n",
      "Totals      348658  2265957  697203  104566  104617  3521001\n"
     ]
    }
   ],
   "source": [
    "#\n",
    "#  NOW, fun with Pandas and Pivot Tables!\n",
    "#\n",
    "#First, get a dataframe from the CSV File\n",
    "#Note: The following was enabled by the following imports\n",
    "# import pandas as pd\n",
    "# from pandas import pivot_table, DataFrame, crosstab\n",
    "# import numpy as np\n",
    "df=pd.read_csv(flocation,delimiter=\",\") # where pd is the assigned name for my Pandas object\n",
    "Df_pv = (pivot_table(df,index=['Candidate'], columns=['County'], aggfunc=np.count_nonzero,margins=True,margins_name='Totals'))\n",
    "print(Df_pv)\n",
    "Df_pv2 = (pivot_table(df,index=['Candidate'], columns=['County'], aggfunc=np.count_nonzero))"
   ]
  },
  {
   "cell_type": "code",
   "execution_count": 9,
   "metadata": {},
   "outputs": [
    {
     "name": "stdout",
     "output_type": "stream",
     "text": [
      " --- PANDAMONIUM! --- Over 100 lines of looping code replaced by 5 lines of code(including the imports!) \n"
     ]
    },
    {
     "data": {
      "image/png": "[encoded data removed]",
      "text/plain": [
       "<Figure size 432x288 with 1 Axes>"
      ]
     },
     "metadata": {
      "needs_background": "light"
     },
     "output_type": "display_data"
    }
   ],
   "source": [
    "Df_pv2.plot(kind='bar', stacked=True)\n",
    " #print(df.head(5)) #take a look at the heading\n",
    "print\n",
    "print(\" --- PANDAMONIUM! --- Over 100 lines of looping code replaced by 5 lines of code(including the imports!) \")"
   ]
  },
  {
   "cell_type": "code",
   "execution_count": null,
   "metadata": {},
   "outputs": [],
   "source": []
  },
  {
   "cell_type": "code",
   "execution_count": null,
   "metadata": {},
   "outputs": [],
   "source": []
  }
 ],
 "metadata": {
  "kernelspec": {
   "display_name": "Python 3",
   "language": "python",
   "name": "python3"
  },
  "language_info": {
   "codemirror_mode": {
    "name": "ipython",
    "version": 3
   },
   "file_extension": ".py",
   "mimetype": "text/x-python",
   "name": "python",
   "nbconvert_exporter": "python",
   "pygments_lexer": "ipython3",
   "version": "3.7.3"
  }
 },
 "nbformat": 4,
 "nbformat_minor": 2
}
